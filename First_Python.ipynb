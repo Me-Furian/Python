{
 "cells": [
  {
   "cell_type": "code",
   "execution_count": 1,
   "id": "2bc4a4dd-a3e2-481c-84b9-98f686c25d22",
   "metadata": {},
   "outputs": [
    {
     "data": {
      "text/plain": [
       "(7, 5)"
      ]
     },
     "execution_count": 1,
     "metadata": {},
     "output_type": "execute_result"
    }
   ],
   "source": [
    "# 1)swapig numbers\n",
    "x=7\n",
    "y=5\n",
    "x,y"
   ]
  },
  {
   "cell_type": "code",
   "execution_count": 2,
   "id": "c5f64055-5280-4cda-8091-b076cde87042",
   "metadata": {},
   "outputs": [
    {
     "data": {
      "text/plain": [
       "(5, 7)"
      ]
     },
     "execution_count": 2,
     "metadata": {},
     "output_type": "execute_result"
    }
   ],
   "source": [
    "x,y=y,x\n",
    "x,y"
   ]
  },
  {
   "cell_type": "code",
   "execution_count": 3,
   "id": "a0697556-4e4e-4110-8596-b293af776c39",
   "metadata": {},
   "outputs": [
    {
     "data": {
      "text/plain": [
       "24"
      ]
     },
     "execution_count": 3,
     "metadata": {},
     "output_type": "execute_result"
    }
   ],
   "source": [
    "# 2)Area of Rectangle\n",
    "length=4\n",
    "breadth=6\n",
    "Area=length*breadth\n",
    "Area"
   ]
  },
  {
   "cell_type": "code",
   "execution_count": 4,
   "id": "dd9661bf-d0e0-437f-b8a2-66415d2de0e2",
   "metadata": {},
   "outputs": [
    {
     "data": {
      "text/plain": [
       "97.7"
      ]
     },
     "execution_count": 4,
     "metadata": {},
     "output_type": "execute_result"
    }
   ],
   "source": [
    "#3)Celsius to Fahrenheit,\n",
    "cel=36.5\n",
    "far=cel*(9/5)+32\n",
    "far"
   ]
  },
  {
   "cell_type": "code",
   "execution_count": 5,
   "id": "3a4b327a-0335-4de3-8cb7-930c39be2164",
   "metadata": {},
   "outputs": [
    {
     "name": "stdin",
     "output_type": "stream",
     "text": [
      " Hai\n"
     ]
    },
    {
     "data": {
      "text/plain": [
       "3"
      ]
     },
     "execution_count": 5,
     "metadata": {},
     "output_type": "execute_result"
    }
   ],
   "source": [
    "#4)string as input and prints\n",
    "s_str=str(input())\n",
    "len(s_str)"
   ]
  },
  {
   "cell_type": "code",
   "execution_count": 7,
   "id": "cf079a3d-aa24-4321-89a3-2ab0e486c375",
   "metadata": {},
   "outputs": [
    {
     "name": "stdin",
     "output_type": "stream",
     "text": [
      " hai\n"
     ]
    },
    {
     "name": "stdout",
     "output_type": "stream",
     "text": [
      "Total number of vowels =  2\n"
     ]
    },
    {
     "name": "stdin",
     "output_type": "stream",
     "text": [
      " wE\n"
     ]
    },
    {
     "name": "stdout",
     "output_type": "stream",
     "text": [
      "Total number of vowels =  1\n"
     ]
    }
   ],
   "source": [
    "#5)counts vowels\n",
    "s_st=str(input())\n",
    "vw_ct=0\n",
    "vw_ct = vw_ct+s_st.count('a')\n",
    "vw_ct = vw_ct+s_st.count('e')\n",
    "vw_ct = vw_ct+s_st.count('i')\n",
    "vw_ct = vw_ct+s_st.count('o')\n",
    "vw_ct = vw_ct+s_st.count('u')\n",
    "vw_ct = vw_ct+s_st.count('A')\n",
    "vw_ct = vw_ct+s_st.count('E')\n",
    "vw_ct = vw_ct+s_st.count('I')\n",
    "vw_ct = vw_ct+s_st.count('O')\n",
    "vw_ct = vw_ct+s_st.count('U')\n",
    "print('Total number of vowels = ',vw_ct)\n",
    "\n",
    "s_str=str(input())\n",
    "vowels='aeiouAEIOU'\n",
    "v=set(vowels)\n",
    "v_ct=0\n",
    "for i in v:\n",
    "    if i in s_str:\n",
    "        v_ct = v_ct+1\n",
    "print('Total number of vowels = ',v_ct)"
   ]
  },
  {
   "cell_type": "code",
   "execution_count": 8,
   "id": "1d30e414-01b6-4065-82ea-654429ae3a71",
   "metadata": {},
   "outputs": [
    {
     "name": "stdin",
     "output_type": "stream",
     "text": [
      " satish\n"
     ]
    },
    {
     "data": {
      "text/plain": [
       "'hsitas'"
      ]
     },
     "execution_count": 8,
     "metadata": {},
     "output_type": "execute_result"
    }
   ],
   "source": [
    "#6)reversed string\n",
    "s_st=str(input())\n",
    "s_st[::-1]"
   ]
  },
  {
   "cell_type": "code",
   "execution_count": 10,
   "id": "43cdf5ee-d2df-46d0-b713-ed04255ce0b3",
   "metadata": {},
   "outputs": [
    {
     "name": "stdin",
     "output_type": "stream",
     "text": [
      " noon\n"
     ]
    },
    {
     "data": {
      "text/plain": [
       "True"
      ]
     },
     "execution_count": 10,
     "metadata": {},
     "output_type": "execute_result"
    }
   ],
   "source": [
    "#7)palindrome\n",
    "s_st=str(input())\n",
    "s_st==s_st[::-1]"
   ]
  },
  {
   "cell_type": "code",
   "execution_count": null,
   "id": "0376b99b-993a-40f0-b732-b356fdff1f05",
   "metadata": {},
   "outputs": [],
   "source": [
    "#8)modified string without spaces\n",
    "my_str=str(input())\n",
    "my_str.replace(' ','')"
   ]
  },
  {
   "cell_type": "code",
   "execution_count": null,
   "id": "28032757-c56e-44e3-912d-38dc06eace4f",
   "metadata": {},
   "outputs": [],
   "source": []
  }
 ],
 "metadata": {
  "kernelspec": {
   "display_name": "Python 3 (ipykernel)",
   "language": "python",
   "name": "python3"
  },
  "language_info": {
   "codemirror_mode": {
    "name": "ipython",
    "version": 3
   },
   "file_extension": ".py",
   "mimetype": "text/x-python",
   "name": "python",
   "nbconvert_exporter": "python",
   "pygments_lexer": "ipython3",
   "version": "3.10.8"
  }
 },
 "nbformat": 4,
 "nbformat_minor": 5
}
